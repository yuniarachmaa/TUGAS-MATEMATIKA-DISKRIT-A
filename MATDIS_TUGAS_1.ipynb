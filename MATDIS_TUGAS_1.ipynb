{
  "cells": [
    {
      "cell_type": "markdown",
      "metadata": {
        "id": "view-in-github",
        "colab_type": "text"
      },
      "source": [
        "<a href=\"https://colab.research.google.com/github/yuniarachmaa/TUGAS-MATEMATIKA-DISKRIT-A/blob/main/MATDIS_TUGAS_1.ipynb\" target=\"_parent\"><img src=\"https://colab.research.google.com/assets/colab-badge.svg\" alt=\"Open In Colab\"/></a>"
      ]
    },
    {
      "cell_type": "markdown",
      "source": [
        "Nama : Yuniar Rachmawati\n",
        "\n",
        "NPM : 24083010106\n",
        "\n",
        "Mata Kuliah : Matematika Diskrit (A)\n",
        "\n",
        "# TUGAS MATEMATIKA DISKRIT 1"
      ],
      "metadata": {
        "id": "nPkZJhwBrXWT"
      },
      "id": "nPkZJhwBrXWT"
    },
    {
      "cell_type": "code",
      "execution_count": null,
      "id": "2ae18071-8b3b-4497-8449-fdf3a571ddcc",
      "metadata": {
        "colab": {
          "base_uri": "https://localhost:8080/"
        },
        "id": "2ae18071-8b3b-4497-8449-fdf3a571ddcc",
        "outputId": "4ff1f5bb-870d-4fb9-970b-759971a94fb4"
      },
      "outputs": [
        {
          "output_type": "stream",
          "name": "stdout",
          "text": [
            "Empat mahasiswa terbaik berdasarkan skor total:\n",
            "                               NAMA  Skor_Total\n",
            "8   RAVEENA AYU DESEMBER SURYOPUTRI        1.25\n",
            "12             AMELIA RIZQYNA PUTRI        1.25\n",
            "6             Mohammad Alimun Hakim        1.21\n",
            "36              Indra Maulana R F Y        1.21\n",
            "\n",
            "Matriks Kovarians:\n",
            "[[0.00232742 0.00015779 0.00027613 0.0004931 ]\n",
            " [0.00015779 0.00092045 0.00186719 0.00189349]\n",
            " [0.00027613 0.00186719 0.00403682 0.00408284]\n",
            " [0.0004931  0.00189349 0.00408284 0.0043787 ]]\n",
            "\n",
            "Matriks Korelasi:\n",
            "[[1.         0.10780666 0.09008728 0.15446231]\n",
            " [0.10780666 1.         0.96865726 0.94317299]\n",
            " [0.09008728 0.96865726 1.         0.97111419]\n",
            " [0.15446231 0.94317299 0.97111419 1.        ]]\n",
            "\n",
            "Cosine Similarity (5x5 pertama):\n",
            "NAMA                     MADINA HEDY ALIFANTI  MARIA DWI KURNIASIH  \\\n",
            "NAMA                                                                 \n",
            "MADINA HEDY ALIFANTI                 1.000000             1.000000   \n",
            "MARIA DWI KURNIASIH                  1.000000             1.000000   \n",
            "ADINDA PUTRI RACHMAWATI              1.000000             1.000000   \n",
            "AQUINA SYABITA                       1.000000             1.000000   \n",
            "VARID PUTRA PRATAMA                  0.998443             0.998443   \n",
            "\n",
            "NAMA                     ADINDA PUTRI RACHMAWATI  AQUINA SYABITA  \\\n",
            "NAMA                                                               \n",
            "MADINA HEDY ALIFANTI                    1.000000        1.000000   \n",
            "MARIA DWI KURNIASIH                     1.000000        1.000000   \n",
            "ADINDA PUTRI RACHMAWATI                 1.000000        1.000000   \n",
            "AQUINA SYABITA                          1.000000        1.000000   \n",
            "VARID PUTRA PRATAMA                     0.998443        0.998443   \n",
            "\n",
            "NAMA                     VARID PUTRA PRATAMA  \n",
            "NAMA                                          \n",
            "MADINA HEDY ALIFANTI                0.998443  \n",
            "MARIA DWI KURNIASIH                 0.998443  \n",
            "ADINDA PUTRI RACHMAWATI             0.998443  \n",
            "AQUINA SYABITA                      0.998443  \n",
            "VARID PUTRA PRATAMA                 1.000000  \n"
          ]
        }
      ],
      "source": [
        "import pandas as pd\n",
        "import numpy as np\n",
        "from numpy.linalg import norm\n",
        "\n",
        "# 1. Baca data Excel\n",
        "file_path = \"DATA MATDIS A.xlsx\"\n",
        "df = pd.read_excel(file_path)\n",
        "\n",
        "# 2. Ambil kolom C–F sebagai kriteria\n",
        "C = df.iloc[:, 2:6]\n",
        "\n",
        "# --- Perbaikan data ---\n",
        "# Isi NaN dengan mean per kolom\n",
        "C = C.fillna(C.mean())\n",
        "\n",
        "# Hapus kolom konstan (supaya korelasi tidak NaN)\n",
        "C = C.loc[:, C.nunique() > 1]\n",
        "\n",
        "# Simpan kembali ke dataframe bersih\n",
        "df_clean = df.copy()\n",
        "df_clean[C.columns] = C\n",
        "\n",
        "# Ubah ke numpy array\n",
        "C = C.to_numpy()\n",
        "\n",
        "# 3. Tentukan bobot prioritas (matrix P)\n",
        "P = np.array([0.2, 0.3, 0.4, 0.4])\n",
        "P = P[:C.shape[1]]   # sesuaikan dengan jumlah kolom C\n",
        "\n",
        "# 4. Hitung skor total (C × P)\n",
        "scores = C @ P\n",
        "df_clean[\"Skor_Total\"] = scores\n",
        "\n",
        "# Ambil 4 mahasiswa terbaik\n",
        "top4 = df_clean.nlargest(4, \"Skor_Total\")\n",
        "\n",
        "print(\"Empat mahasiswa terbaik berdasarkan skor total:\")\n",
        "print(top4[[\"NAMA\", \"Skor_Total\"]])\n",
        "\n",
        "# 5. Matriks kovarians & korelasi antar kriteria\n",
        "cov_mat = np.cov(C, rowvar=False)\n",
        "corr_mat = np.corrcoef(C, rowvar=False)\n",
        "\n",
        "print(\"\\nMatriks Kovarians:\")\n",
        "print(cov_mat)\n",
        "\n",
        "print(\"\\nMatriks Korelasi:\")\n",
        "print(corr_mat)\n",
        "\n",
        "# 6. Cosine similarity antar mahasiswa (handle pembagian 0)\n",
        "norms = norm(C, axis=1)\n",
        "norms[norms == 0] = 1e-10   # cegah pembagian 0\n",
        "cosine_sim = (C @ C.T) / (norms[:, None] * norms)\n",
        "cosine_df = pd.DataFrame(cosine_sim, index=df[\"NAMA\"], columns=df[\"NAMA\"])\n",
        "\n",
        "print(\"\\nCosine Similarity (5x5 pertama):\")\n",
        "print(cosine_df.iloc[:5, :5])\n",
        "\n",
        "# 7. Simpan hasil analisis ke Excel baru\n",
        "with pd.ExcelWriter(\"Hasil_Analisis.xlsx\") as writer:\n",
        "    df_clean.to_excel(writer, sheet_name=\"Skor Mahasiswa\", index=False)\n",
        "    pd.DataFrame(cov_mat).to_excel(writer, sheet_name=\"Kovarians\", index=False)\n",
        "    pd.DataFrame(corr_mat).to_excel(writer, sheet_name=\"Korelasi\", index=False)\n",
        "    cosine_df.to_excel(writer, sheet_name=\"CosineSimilarity\")"
      ]
    },
    {
      "cell_type": "markdown",
      "source": [
        "* ## Import Libraries dan Data Loading\n",
        "Bagian awal mengimpor pandas untuk manipulasi DataFrame, numpy untuk operasi array numerik, dan norm dari numpy.linalg untuk kalkulasi normalisasi vektor. Data mahasiswa dibaca dari file Excel menggunakan `pd.read_excel()` dan disimpan dalam DataFrame untuk preprocessing selanjutnya.\n",
        "\n",
        "* ## Data Preprocessing dan Cleaning  \n",
        "Ekstraksi data dilakukan dari kolom C hingga akhir (mengabaikan kolom identitas), kemudian missing values ditangani dengan mean imputation menggunakan `fillna(df.mean())`. DataFrame dibersihkan dan nama kolom dikonversi ke uppercase untuk konsistensi, lalu dikonversi ke numpy array untuk optimasi komputasi numerik.\n",
        "\n",
        "* ## Student Ranking Algorithm\n",
        "Implementasi ranking menggunakan sum agregat semua kriteria penilaian per mahasiswa, kemudian `np.argmax()` mengidentifikasi indeks dengan skor tertinggi. Output menunjukkan empat mahasiswa dengan skor optimal identik (1.25): RAVEENA AYU, AMELIA RIZQYNA, Mohammad Alimun, dan Indra Maulana.\n",
        "\n",
        "* ## Correlation Matrix Analysis\n",
        "Dua matriks dihitung : kovarians dengan `np.cov()` untuk mengukur variabilitas bersama, dan korelasi dengan `np.corrcoef()` untuk hubungan linear standarisasi. Hasil menunjukkan spektrum korelasi dari negatif hingga positif, mengindikasikan heterogenitas pola akademik antar mahasiswa.\n",
        "\n",
        "* ## Cosine Similarity Computation\n",
        "Algoritma menormalisasi setiap vektor mahasiswa menggunakan L2 norm, kemudian menghitung dot product untuk menghasilkan similarity matrix. Cosine similarity mengukur sudut antar vektor (1=identik, 0=ortogonal, -1=berlawanan). Hasil dalam DataFrame menunjukkan beberapa mahasiswa memiliki similarity tinggi seperti MADINA HEDY ALIFANTI, mengindikasikan profil akademik serupa."
      ],
      "metadata": {
        "id": "ABE0EzFMxIDs"
      },
      "id": "ABE0EzFMxIDs"
    }
  ],
  "metadata": {
    "kernelspec": {
      "display_name": "Python 3 (ipykernel)",
      "language": "python",
      "name": "python3"
    },
    "language_info": {
      "codemirror_mode": {
        "name": "ipython",
        "version": 3
      },
      "file_extension": ".py",
      "mimetype": "text/x-python",
      "name": "python",
      "nbconvert_exporter": "python",
      "pygments_lexer": "ipython3",
      "version": "3.12.4"
    },
    "colab": {
      "provenance": [],
      "include_colab_link": true
    }
  },
  "nbformat": 4,
  "nbformat_minor": 5
}