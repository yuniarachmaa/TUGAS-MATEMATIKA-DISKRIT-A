{
  "nbformat": 4,
  "nbformat_minor": 0,
  "metadata": {
    "colab": {
      "provenance": [],
      "authorship_tag": "ABX9TyONwTqlj3+Ih1vTnuVpE+CB",
      "include_colab_link": true
    },
    "kernelspec": {
      "name": "python3",
      "display_name": "Python 3"
    },
    "language_info": {
      "name": "python"
    }
  },
  "cells": [
    {
      "cell_type": "markdown",
      "metadata": {
        "id": "view-in-github",
        "colab_type": "text"
      },
      "source": [
        "<a href=\"https://colab.research.google.com/github/yuniarachmaa/TUGAS-MATEMATIKA-DISKRIT-A/blob/main/MATDIS_TUGAS_3.ipynb\" target=\"_parent\"><img src=\"https://colab.research.google.com/assets/colab-badge.svg\" alt=\"Open In Colab\"/></a>"
      ]
    },
    {
      "cell_type": "markdown",
      "source": [
        "Nama : Yuniar Rachmawati\n",
        "\n",
        "NPM : 24083010106\n",
        "\n",
        "Mata Kuliah : Matematika Diskrit (A)\n",
        "\n",
        "# TUGAS MATEMATIKA DISKRIT 3"
      ],
      "metadata": {
        "id": "v5BpUEIUkXtg"
      }
    },
    {
      "cell_type": "code",
      "source": [
        "def hitung_harmonik(n):\n",
        "    total = 0\n",
        "    for i in range(1, n + 1):\n",
        "        total += 1 / i\n",
        "    return total\n",
        "\n",
        "n = 1\n",
        "while True:\n",
        "    jumlah = hitung_harmonik(n)\n",
        "    print(f\"n = {n}, H_n = {jumlah:.6f}\")\n",
        "    if jumlah > 2:\n",
        "        print(f\"--> Pertama kali lebih dari 2 terjadi pada n = {n}\")\n",
        "        break\n",
        "    n += 1"
      ],
      "metadata": {
        "colab": {
          "base_uri": "https://localhost:8080/"
        },
        "id": "szaDAdyRkhiF",
        "outputId": "34aac9eb-87ff-4764-d0ba-7c33ad3a8602"
      },
      "execution_count": null,
      "outputs": [
        {
          "output_type": "stream",
          "name": "stdout",
          "text": [
            "n = 1, H_n = 1.000000\n",
            "n = 2, H_n = 1.500000\n",
            "n = 3, H_n = 1.833333\n",
            "n = 4, H_n = 2.083333\n",
            "--> Pertama kali lebih dari 2 terjadi pada n = 4\n"
          ]
        }
      ]
    },
    {
      "cell_type": "markdown",
      "source": [
        "Program yang dituliskan bertujuan untuk mencari nilai 𝑛 pertama kali ketika jumlah deret harmonik 𝐻𝑛 lebih besar dari 2. Fungsi hitung_harmonik(n) dibuat untuk menghitung jumlah harmonik sampai suku ke-𝑛. Selanjutnya, dilakukan perulangan mulai dari 𝑛 = 1 dan setiap hasil perhitungan 𝐻𝑛 ditampilkan.\n",
        "\n",
        "Berdasarkan hasil eksekusi, diperoleh urutan nilai:\n",
        "* Saat 𝑛 = 1, jumlah harmonik 𝐻1 = 1.000000\n",
        "* Saat 𝑛 = 2, jumlah harmonik 𝐻2 = 1.500000\n",
        "* Saat 𝑛 = 3, jumlah harmonik 𝐻3 = 1.833333\n",
        "* Saat 𝑛 = 4, jumlah harmonik 𝐻4 = 2.083333\n",
        "\n",
        "Dari data tersebut dapat dilihat bahwa deret harmonik mengalami pertambahan nilai setiap kali\n",
        "𝑛 ditambah. Pertama kali jumlah harmonik melampaui angka 2 adalah pada 𝑛 = 4 dengan hasil 𝐻4 = 2.083333\n",
        "Dengan demikian, program ini berhasil menunjukkan bahwa nilai ambang 2 pada deret harmonik terlampaui ketika 𝑛 = 4."
      ],
      "metadata": {
        "id": "DUJWei1E2vcm"
      }
    }
  ]
}